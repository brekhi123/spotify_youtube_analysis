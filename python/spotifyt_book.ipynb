{
 "cells": [
  {
   "cell_type": "code",
   "execution_count": 51,
   "id": "6fa066d0",
   "metadata": {},
   "outputs": [],
   "source": [
    "import pandas as pd\n",
    "import kaggle\n",
    "import matplotlib.pyplot as plt\n",
    "import seaborn as sns"
   ]
  },
  {
   "cell_type": "code",
   "execution_count": 52,
   "id": "d2127b37",
   "metadata": {},
   "outputs": [
    {
     "name": "stdout",
     "output_type": "stream",
     "text": [
      "Dataset URL: https://www.kaggle.com/datasets/rohitgrewal/spotify-youtube-data\n"
     ]
    }
   ],
   "source": [
    "kaggle.api.authenticate()\n",
    "kaggle.api.dataset_download_files('rohitgrewal/spotify-youtube-data', path='data', unzip=True)"
   ]
  },
  {
   "cell_type": "code",
   "execution_count": 53,
   "id": "fce9efdf",
   "metadata": {},
   "outputs": [],
   "source": [
    "original_data = pd.read_csv('data/Spotify Youtube Dataset.csv')"
   ]
  },
  {
   "cell_type": "code",
   "execution_count": 54,
   "id": "1e41733a",
   "metadata": {},
   "outputs": [
    {
     "data": {
      "text/plain": [
       "(20718, 28)"
      ]
     },
     "execution_count": 54,
     "metadata": {},
     "output_type": "execute_result"
    }
   ],
   "source": [
    "original_data.shape"
   ]
  },
  {
   "cell_type": "code",
   "execution_count": 55,
   "id": "f4e92085",
   "metadata": {},
   "outputs": [],
   "source": [
    "df = original_data.copy()"
   ]
  },
  {
   "cell_type": "code",
   "execution_count": 56,
   "id": "e3d86e53",
   "metadata": {},
   "outputs": [
    {
     "data": {
      "text/html": [
       "<div>\n",
       "<style scoped>\n",
       "    .dataframe tbody tr th:only-of-type {\n",
       "        vertical-align: middle;\n",
       "    }\n",
       "\n",
       "    .dataframe tbody tr th {\n",
       "        vertical-align: top;\n",
       "    }\n",
       "\n",
       "    .dataframe thead th {\n",
       "        text-align: right;\n",
       "    }\n",
       "</style>\n",
       "<table border=\"1\" class=\"dataframe\">\n",
       "  <thead>\n",
       "    <tr style=\"text-align: right;\">\n",
       "      <th></th>\n",
       "      <th>Unnamed: 0</th>\n",
       "      <th>Artist</th>\n",
       "      <th>Url_spotify</th>\n",
       "      <th>Track</th>\n",
       "      <th>Album</th>\n",
       "      <th>Album_type</th>\n",
       "      <th>Uri</th>\n",
       "      <th>Danceability</th>\n",
       "      <th>Energy</th>\n",
       "      <th>Key</th>\n",
       "      <th>...</th>\n",
       "      <th>Url_youtube</th>\n",
       "      <th>Title</th>\n",
       "      <th>Channel</th>\n",
       "      <th>Views</th>\n",
       "      <th>Likes</th>\n",
       "      <th>Comments</th>\n",
       "      <th>Description</th>\n",
       "      <th>Licensed</th>\n",
       "      <th>official_video</th>\n",
       "      <th>Stream</th>\n",
       "    </tr>\n",
       "  </thead>\n",
       "  <tbody>\n",
       "    <tr>\n",
       "      <th>0</th>\n",
       "      <td>0</td>\n",
       "      <td>Gorillaz</td>\n",
       "      <td>https://open.spotify.com/artist/3AA28KZvwAUcZu...</td>\n",
       "      <td>Feel Good Inc.</td>\n",
       "      <td>Demon Days</td>\n",
       "      <td>album</td>\n",
       "      <td>spotify:track:0d28khcov6AiegSCpG5TuT</td>\n",
       "      <td>0.818</td>\n",
       "      <td>0.705</td>\n",
       "      <td>6.0</td>\n",
       "      <td>...</td>\n",
       "      <td>https://www.youtube.com/watch?v=HyHNuVaZJ-k</td>\n",
       "      <td>Gorillaz - Feel Good Inc. (Official Video)</td>\n",
       "      <td>Gorillaz</td>\n",
       "      <td>693555221.0</td>\n",
       "      <td>6220896.0</td>\n",
       "      <td>169907.0</td>\n",
       "      <td>Official HD Video for Gorillaz' fantastic trac...</td>\n",
       "      <td>True</td>\n",
       "      <td>True</td>\n",
       "      <td>1.040235e+09</td>\n",
       "    </tr>\n",
       "    <tr>\n",
       "      <th>1</th>\n",
       "      <td>1</td>\n",
       "      <td>Gorillaz</td>\n",
       "      <td>https://open.spotify.com/artist/3AA28KZvwAUcZu...</td>\n",
       "      <td>Rhinestone Eyes</td>\n",
       "      <td>Plastic Beach</td>\n",
       "      <td>album</td>\n",
       "      <td>spotify:track:1foMv2HQwfQ2vntFf9HFeG</td>\n",
       "      <td>0.676</td>\n",
       "      <td>0.703</td>\n",
       "      <td>8.0</td>\n",
       "      <td>...</td>\n",
       "      <td>https://www.youtube.com/watch?v=yYDmaexVHic</td>\n",
       "      <td>Gorillaz - Rhinestone Eyes [Storyboard Film] (...</td>\n",
       "      <td>Gorillaz</td>\n",
       "      <td>72011645.0</td>\n",
       "      <td>1079128.0</td>\n",
       "      <td>31003.0</td>\n",
       "      <td>The official video for Gorillaz - Rhinestone E...</td>\n",
       "      <td>True</td>\n",
       "      <td>True</td>\n",
       "      <td>3.100837e+08</td>\n",
       "    </tr>\n",
       "    <tr>\n",
       "      <th>2</th>\n",
       "      <td>2</td>\n",
       "      <td>Gorillaz</td>\n",
       "      <td>https://open.spotify.com/artist/3AA28KZvwAUcZu...</td>\n",
       "      <td>New Gold (feat. Tame Impala and Bootie Brown)</td>\n",
       "      <td>New Gold (feat. Tame Impala and Bootie Brown)</td>\n",
       "      <td>single</td>\n",
       "      <td>spotify:track:64dLd6rVqDLtkXFYrEUHIU</td>\n",
       "      <td>0.695</td>\n",
       "      <td>0.923</td>\n",
       "      <td>1.0</td>\n",
       "      <td>...</td>\n",
       "      <td>https://www.youtube.com/watch?v=qJa-VFwPpYA</td>\n",
       "      <td>Gorillaz - New Gold ft. Tame Impala &amp; Bootie B...</td>\n",
       "      <td>Gorillaz</td>\n",
       "      <td>8435055.0</td>\n",
       "      <td>282142.0</td>\n",
       "      <td>7399.0</td>\n",
       "      <td>Gorillaz - New Gold ft. Tame Impala &amp; Bootie B...</td>\n",
       "      <td>True</td>\n",
       "      <td>True</td>\n",
       "      <td>6.306347e+07</td>\n",
       "    </tr>\n",
       "    <tr>\n",
       "      <th>3</th>\n",
       "      <td>3</td>\n",
       "      <td>Gorillaz</td>\n",
       "      <td>https://open.spotify.com/artist/3AA28KZvwAUcZu...</td>\n",
       "      <td>On Melancholy Hill</td>\n",
       "      <td>Plastic Beach</td>\n",
       "      <td>album</td>\n",
       "      <td>spotify:track:0q6LuUqGLUiCPP1cbdwFs3</td>\n",
       "      <td>0.689</td>\n",
       "      <td>0.739</td>\n",
       "      <td>2.0</td>\n",
       "      <td>...</td>\n",
       "      <td>https://www.youtube.com/watch?v=04mfKJWDSzI</td>\n",
       "      <td>Gorillaz - On Melancholy Hill (Official Video)</td>\n",
       "      <td>Gorillaz</td>\n",
       "      <td>211754952.0</td>\n",
       "      <td>1788577.0</td>\n",
       "      <td>55229.0</td>\n",
       "      <td>Follow Gorillaz online:\\nhttp://gorillaz.com \\...</td>\n",
       "      <td>True</td>\n",
       "      <td>True</td>\n",
       "      <td>4.346636e+08</td>\n",
       "    </tr>\n",
       "    <tr>\n",
       "      <th>4</th>\n",
       "      <td>4</td>\n",
       "      <td>Gorillaz</td>\n",
       "      <td>https://open.spotify.com/artist/3AA28KZvwAUcZu...</td>\n",
       "      <td>Clint Eastwood</td>\n",
       "      <td>Gorillaz</td>\n",
       "      <td>album</td>\n",
       "      <td>spotify:track:7yMiX7n9SBvadzox8T5jzT</td>\n",
       "      <td>0.663</td>\n",
       "      <td>0.694</td>\n",
       "      <td>10.0</td>\n",
       "      <td>...</td>\n",
       "      <td>https://www.youtube.com/watch?v=1V_xRb0x9aw</td>\n",
       "      <td>Gorillaz - Clint Eastwood (Official Video)</td>\n",
       "      <td>Gorillaz</td>\n",
       "      <td>618480958.0</td>\n",
       "      <td>6197318.0</td>\n",
       "      <td>155930.0</td>\n",
       "      <td>The official music video for Gorillaz - Clint ...</td>\n",
       "      <td>True</td>\n",
       "      <td>True</td>\n",
       "      <td>6.172597e+08</td>\n",
       "    </tr>\n",
       "  </tbody>\n",
       "</table>\n",
       "<p>5 rows × 28 columns</p>\n",
       "</div>"
      ],
      "text/plain": [
       "   Unnamed: 0    Artist                                        Url_spotify  \\\n",
       "0           0  Gorillaz  https://open.spotify.com/artist/3AA28KZvwAUcZu...   \n",
       "1           1  Gorillaz  https://open.spotify.com/artist/3AA28KZvwAUcZu...   \n",
       "2           2  Gorillaz  https://open.spotify.com/artist/3AA28KZvwAUcZu...   \n",
       "3           3  Gorillaz  https://open.spotify.com/artist/3AA28KZvwAUcZu...   \n",
       "4           4  Gorillaz  https://open.spotify.com/artist/3AA28KZvwAUcZu...   \n",
       "\n",
       "                                           Track  \\\n",
       "0                                 Feel Good Inc.   \n",
       "1                                Rhinestone Eyes   \n",
       "2  New Gold (feat. Tame Impala and Bootie Brown)   \n",
       "3                             On Melancholy Hill   \n",
       "4                                 Clint Eastwood   \n",
       "\n",
       "                                           Album Album_type  \\\n",
       "0                                     Demon Days      album   \n",
       "1                                  Plastic Beach      album   \n",
       "2  New Gold (feat. Tame Impala and Bootie Brown)     single   \n",
       "3                                  Plastic Beach      album   \n",
       "4                                       Gorillaz      album   \n",
       "\n",
       "                                    Uri  Danceability  Energy   Key  ...  \\\n",
       "0  spotify:track:0d28khcov6AiegSCpG5TuT         0.818   0.705   6.0  ...   \n",
       "1  spotify:track:1foMv2HQwfQ2vntFf9HFeG         0.676   0.703   8.0  ...   \n",
       "2  spotify:track:64dLd6rVqDLtkXFYrEUHIU         0.695   0.923   1.0  ...   \n",
       "3  spotify:track:0q6LuUqGLUiCPP1cbdwFs3         0.689   0.739   2.0  ...   \n",
       "4  spotify:track:7yMiX7n9SBvadzox8T5jzT         0.663   0.694  10.0  ...   \n",
       "\n",
       "                                   Url_youtube  \\\n",
       "0  https://www.youtube.com/watch?v=HyHNuVaZJ-k   \n",
       "1  https://www.youtube.com/watch?v=yYDmaexVHic   \n",
       "2  https://www.youtube.com/watch?v=qJa-VFwPpYA   \n",
       "3  https://www.youtube.com/watch?v=04mfKJWDSzI   \n",
       "4  https://www.youtube.com/watch?v=1V_xRb0x9aw   \n",
       "\n",
       "                                               Title   Channel        Views  \\\n",
       "0         Gorillaz - Feel Good Inc. (Official Video)  Gorillaz  693555221.0   \n",
       "1  Gorillaz - Rhinestone Eyes [Storyboard Film] (...  Gorillaz   72011645.0   \n",
       "2  Gorillaz - New Gold ft. Tame Impala & Bootie B...  Gorillaz    8435055.0   \n",
       "3     Gorillaz - On Melancholy Hill (Official Video)  Gorillaz  211754952.0   \n",
       "4         Gorillaz - Clint Eastwood (Official Video)  Gorillaz  618480958.0   \n",
       "\n",
       "       Likes  Comments                                        Description  \\\n",
       "0  6220896.0  169907.0  Official HD Video for Gorillaz' fantastic trac...   \n",
       "1  1079128.0   31003.0  The official video for Gorillaz - Rhinestone E...   \n",
       "2   282142.0    7399.0  Gorillaz - New Gold ft. Tame Impala & Bootie B...   \n",
       "3  1788577.0   55229.0  Follow Gorillaz online:\\nhttp://gorillaz.com \\...   \n",
       "4  6197318.0  155930.0  The official music video for Gorillaz - Clint ...   \n",
       "\n",
       "   Licensed official_video        Stream  \n",
       "0      True           True  1.040235e+09  \n",
       "1      True           True  3.100837e+08  \n",
       "2      True           True  6.306347e+07  \n",
       "3      True           True  4.346636e+08  \n",
       "4      True           True  6.172597e+08  \n",
       "\n",
       "[5 rows x 28 columns]"
      ]
     },
     "execution_count": 56,
     "metadata": {},
     "output_type": "execute_result"
    }
   ],
   "source": [
    "df.head()"
   ]
  },
  {
   "cell_type": "code",
   "execution_count": 57,
   "id": "2b39b98e",
   "metadata": {},
   "outputs": [
    {
     "name": "stdout",
     "output_type": "stream",
     "text": [
      "<class 'pandas.core.frame.DataFrame'>\n",
      "RangeIndex: 20718 entries, 0 to 20717\n",
      "Data columns (total 28 columns):\n",
      " #   Column            Non-Null Count  Dtype  \n",
      "---  ------            --------------  -----  \n",
      " 0   Unnamed: 0        20718 non-null  int64  \n",
      " 1   Artist            20718 non-null  object \n",
      " 2   Url_spotify       20718 non-null  object \n",
      " 3   Track             20718 non-null  object \n",
      " 4   Album             20718 non-null  object \n",
      " 5   Album_type        20718 non-null  object \n",
      " 6   Uri               20718 non-null  object \n",
      " 7   Danceability      20716 non-null  float64\n",
      " 8   Energy            20716 non-null  float64\n",
      " 9   Key               20716 non-null  float64\n",
      " 10  Loudness          20716 non-null  float64\n",
      " 11  Speechiness       20716 non-null  float64\n",
      " 12  Acousticness      20716 non-null  float64\n",
      " 13  Instrumentalness  20716 non-null  float64\n",
      " 14  Liveness          20716 non-null  float64\n",
      " 15  Valence           20716 non-null  float64\n",
      " 16  Tempo             20716 non-null  float64\n",
      " 17  Duration_ms       20716 non-null  float64\n",
      " 18  Url_youtube       20248 non-null  object \n",
      " 19  Title             20248 non-null  object \n",
      " 20  Channel           20248 non-null  object \n",
      " 21  Views             20248 non-null  float64\n",
      " 22  Likes             20177 non-null  float64\n",
      " 23  Comments          20149 non-null  float64\n",
      " 24  Description       19842 non-null  object \n",
      " 25  Licensed          20248 non-null  object \n",
      " 26  official_video    20248 non-null  object \n",
      " 27  Stream            20142 non-null  float64\n",
      "dtypes: float64(15), int64(1), object(12)\n",
      "memory usage: 4.4+ MB\n"
     ]
    }
   ],
   "source": [
    "df.info()"
   ]
  },
  {
   "cell_type": "code",
   "execution_count": 58,
   "id": "28e1edc7",
   "metadata": {},
   "outputs": [
    {
     "data": {
      "text/plain": [
       "Index(['Unnamed: 0', 'Artist', 'Url_spotify', 'Track', 'Album', 'Album_type',\n",
       "       'Uri', 'Danceability', 'Energy', 'Key', 'Loudness', 'Speechiness',\n",
       "       'Acousticness', 'Instrumentalness', 'Liveness', 'Valence', 'Tempo',\n",
       "       'Duration_ms', 'Url_youtube', 'Title', 'Channel', 'Views', 'Likes',\n",
       "       'Comments', 'Description', 'Licensed', 'official_video', 'Stream'],\n",
       "      dtype='object')"
      ]
     },
     "execution_count": 58,
     "metadata": {},
     "output_type": "execute_result"
    }
   ],
   "source": [
    "df.columns"
   ]
  },
  {
   "cell_type": "code",
   "execution_count": 59,
   "id": "2ef7b674",
   "metadata": {},
   "outputs": [],
   "source": [
    "# Dropping the unnecessary columns\n",
    "df.drop(columns=['Unnamed: 0', 'Url_spotify', 'Url_youtube', 'Uri'], inplace=True)"
   ]
  },
  {
   "cell_type": "code",
   "execution_count": 60,
   "id": "18e1824c",
   "metadata": {},
   "outputs": [
    {
     "data": {
      "text/plain": [
       "Index(['Artist', 'Track', 'Album', 'Album_type', 'Danceability', 'Energy',\n",
       "       'Key', 'Loudness', 'Speechiness', 'Acousticness', 'Instrumentalness',\n",
       "       'Liveness', 'Valence', 'Tempo', 'Duration_ms', 'Title', 'Channel',\n",
       "       'Views', 'Likes', 'Comments', 'Description', 'Licensed',\n",
       "       'official_video', 'Stream'],\n",
       "      dtype='object')"
      ]
     },
     "execution_count": 60,
     "metadata": {},
     "output_type": "execute_result"
    }
   ],
   "source": [
    "df.columns"
   ]
  },
  {
   "cell_type": "code",
   "execution_count": 61,
   "id": "5db47298",
   "metadata": {},
   "outputs": [
    {
     "data": {
      "text/plain": [
       "Artist                0\n",
       "Track                 0\n",
       "Album                 0\n",
       "Album_type            0\n",
       "Danceability          2\n",
       "Energy                2\n",
       "Key                   2\n",
       "Loudness              2\n",
       "Speechiness           2\n",
       "Acousticness          2\n",
       "Instrumentalness      2\n",
       "Liveness              2\n",
       "Valence               2\n",
       "Tempo                 2\n",
       "Duration_ms           2\n",
       "Title               470\n",
       "Channel             470\n",
       "Views               470\n",
       "Likes               541\n",
       "Comments            569\n",
       "Description         876\n",
       "Licensed            470\n",
       "official_video      470\n",
       "Stream              576\n",
       "dtype: int64"
      ]
     },
     "execution_count": 61,
     "metadata": {},
     "output_type": "execute_result"
    }
   ],
   "source": [
    "df.isna().sum()"
   ]
  },
  {
   "cell_type": "code",
   "execution_count": 62,
   "id": "8aebfdfa",
   "metadata": {},
   "outputs": [
    {
     "data": {
      "text/plain": [
       "Artist                0\n",
       "Track                 0\n",
       "Album                 0\n",
       "Album_type            0\n",
       "Danceability          2\n",
       "Energy                2\n",
       "Key                   2\n",
       "Loudness              2\n",
       "Speechiness           2\n",
       "Acousticness          2\n",
       "Instrumentalness      2\n",
       "Liveness              2\n",
       "Valence               2\n",
       "Tempo                 2\n",
       "Duration_ms           2\n",
       "Title               470\n",
       "Channel             470\n",
       "Views               470\n",
       "Likes               541\n",
       "Comments            569\n",
       "Description         876\n",
       "Licensed            470\n",
       "official_video      470\n",
       "Stream              576\n",
       "dtype: int64"
      ]
     },
     "execution_count": 62,
     "metadata": {},
     "output_type": "execute_result"
    }
   ],
   "source": [
    "df.isna().sum()"
   ]
  },
  {
   "cell_type": "code",
   "execution_count": 63,
   "id": "16749b2a",
   "metadata": {},
   "outputs": [],
   "source": [
    "# Dropping all the rows with missing values \n",
    "df.dropna(inplace=True)"
   ]
  },
  {
   "cell_type": "code",
   "execution_count": 64,
   "id": "d113afab",
   "metadata": {},
   "outputs": [
    {
     "data": {
      "text/plain": [
       "(19170, 24)"
      ]
     },
     "execution_count": 64,
     "metadata": {},
     "output_type": "execute_result"
    }
   ],
   "source": [
    "df.shape"
   ]
  },
  {
   "cell_type": "code",
   "execution_count": 65,
   "id": "cc9fa70d",
   "metadata": {},
   "outputs": [
    {
     "data": {
      "text/plain": [
       "np.int64(0)"
      ]
     },
     "execution_count": 65,
     "metadata": {},
     "output_type": "execute_result"
    }
   ],
   "source": [
    "df.duplicated().sum()"
   ]
  },
  {
   "cell_type": "code",
   "execution_count": 66,
   "id": "6a0c35ee",
   "metadata": {},
   "outputs": [],
   "source": [
    "df[['Likes', 'Views', 'Comments']] = df[['Likes', 'Views', 'Comments']].astype('int')"
   ]
  },
  {
   "cell_type": "code",
   "execution_count": 67,
   "id": "f00688ff",
   "metadata": {},
   "outputs": [],
   "source": [
    "df[['Artist', 'Track', 'Album', 'Album_type', 'Title', 'Channel', 'Description']] = df[['Artist', 'Track', 'Album', 'Album_type', 'Title', 'Channel', 'Description']].astype('str')"
   ]
  },
  {
   "cell_type": "code",
   "execution_count": 68,
   "id": "7bcea3cd",
   "metadata": {},
   "outputs": [
    {
     "name": "stdout",
     "output_type": "stream",
     "text": [
      "<class 'pandas.core.frame.DataFrame'>\n",
      "Index: 19170 entries, 0 to 20717\n",
      "Data columns (total 24 columns):\n",
      " #   Column            Non-Null Count  Dtype  \n",
      "---  ------            --------------  -----  \n",
      " 0   Artist            19170 non-null  object \n",
      " 1   Track             19170 non-null  object \n",
      " 2   Album             19170 non-null  object \n",
      " 3   Album_type        19170 non-null  object \n",
      " 4   Danceability      19170 non-null  float64\n",
      " 5   Energy            19170 non-null  float64\n",
      " 6   Key               19170 non-null  float64\n",
      " 7   Loudness          19170 non-null  float64\n",
      " 8   Speechiness       19170 non-null  float64\n",
      " 9   Acousticness      19170 non-null  float64\n",
      " 10  Instrumentalness  19170 non-null  float64\n",
      " 11  Liveness          19170 non-null  float64\n",
      " 12  Valence           19170 non-null  float64\n",
      " 13  Tempo             19170 non-null  float64\n",
      " 14  Duration_ms       19170 non-null  float64\n",
      " 15  Title             19170 non-null  object \n",
      " 16  Channel           19170 non-null  object \n",
      " 17  Views             19170 non-null  int64  \n",
      " 18  Likes             19170 non-null  int64  \n",
      " 19  Comments          19170 non-null  int64  \n",
      " 20  Description       19170 non-null  object \n",
      " 21  Licensed          19170 non-null  object \n",
      " 22  official_video    19170 non-null  object \n",
      " 23  Stream            19170 non-null  float64\n",
      "dtypes: float64(12), int64(3), object(9)\n",
      "memory usage: 3.7+ MB\n"
     ]
    }
   ],
   "source": [
    "df.info()"
   ]
  },
  {
   "cell_type": "code",
   "execution_count": 69,
   "id": "72b4f845",
   "metadata": {},
   "outputs": [
    {
     "data": {
      "text/html": [
       "<div>\n",
       "<style scoped>\n",
       "    .dataframe tbody tr th:only-of-type {\n",
       "        vertical-align: middle;\n",
       "    }\n",
       "\n",
       "    .dataframe tbody tr th {\n",
       "        vertical-align: top;\n",
       "    }\n",
       "\n",
       "    .dataframe thead th {\n",
       "        text-align: right;\n",
       "    }\n",
       "</style>\n",
       "<table border=\"1\" class=\"dataframe\">\n",
       "  <thead>\n",
       "    <tr style=\"text-align: right;\">\n",
       "      <th></th>\n",
       "      <th>Views</th>\n",
       "    </tr>\n",
       "    <tr>\n",
       "      <th>Artist</th>\n",
       "      <th></th>\n",
       "    </tr>\n",
       "  </thead>\n",
       "  <tbody>\n",
       "    <tr>\n",
       "      <th>Ed Sheeran</th>\n",
       "      <td>15460207769</td>\n",
       "    </tr>\n",
       "    <tr>\n",
       "      <th>CoComelon</th>\n",
       "      <td>14601671211</td>\n",
       "    </tr>\n",
       "    <tr>\n",
       "      <th>Katy Perry</th>\n",
       "      <td>13120632075</td>\n",
       "    </tr>\n",
       "    <tr>\n",
       "      <th>Charlie Puth</th>\n",
       "      <td>12167594191</td>\n",
       "    </tr>\n",
       "    <tr>\n",
       "      <th>Luis Fonsi</th>\n",
       "      <td>11628113031</td>\n",
       "    </tr>\n",
       "    <tr>\n",
       "      <th>Justin Bieber</th>\n",
       "      <td>10990787061</td>\n",
       "    </tr>\n",
       "    <tr>\n",
       "      <th>Daddy Yankee</th>\n",
       "      <td>10868279671</td>\n",
       "    </tr>\n",
       "    <tr>\n",
       "      <th>Bruno Mars</th>\n",
       "      <td>10231841530</td>\n",
       "    </tr>\n",
       "    <tr>\n",
       "      <th>Macklemore &amp; Ryan Lewis</th>\n",
       "      <td>10122055560</td>\n",
       "    </tr>\n",
       "    <tr>\n",
       "      <th>Coldplay</th>\n",
       "      <td>9997277884</td>\n",
       "    </tr>\n",
       "  </tbody>\n",
       "</table>\n",
       "</div>"
      ],
      "text/plain": [
       "                               Views\n",
       "Artist                              \n",
       "Ed Sheeran               15460207769\n",
       "CoComelon                14601671211\n",
       "Katy Perry               13120632075\n",
       "Charlie Puth             12167594191\n",
       "Luis Fonsi               11628113031\n",
       "Justin Bieber            10990787061\n",
       "Daddy Yankee             10868279671\n",
       "Bruno Mars               10231841530\n",
       "Macklemore & Ryan Lewis  10122055560\n",
       "Coldplay                  9997277884"
      ]
     },
     "execution_count": 69,
     "metadata": {},
     "output_type": "execute_result"
    }
   ],
   "source": [
    "# Top 10 artists with highest views on Youtube\n",
    "df.groupby('Artist').agg({'Views': 'sum'}).sort_values(by='Views', ascending=False).head(10)\n"
   ]
  },
  {
   "cell_type": "code",
   "execution_count": 70,
   "id": "f9025be7",
   "metadata": {},
   "outputs": [
    {
     "data": {
      "text/html": [
       "<div>\n",
       "<style scoped>\n",
       "    .dataframe tbody tr th:only-of-type {\n",
       "        vertical-align: middle;\n",
       "    }\n",
       "\n",
       "    .dataframe tbody tr th {\n",
       "        vertical-align: top;\n",
       "    }\n",
       "\n",
       "    .dataframe thead th {\n",
       "        text-align: right;\n",
       "    }\n",
       "</style>\n",
       "<table border=\"1\" class=\"dataframe\">\n",
       "  <thead>\n",
       "    <tr style=\"text-align: right;\">\n",
       "      <th></th>\n",
       "      <th>Track</th>\n",
       "      <th>Stream</th>\n",
       "    </tr>\n",
       "  </thead>\n",
       "  <tbody>\n",
       "    <tr>\n",
       "      <th>15250</th>\n",
       "      <td>Blinding Lights</td>\n",
       "      <td>3.386520e+09</td>\n",
       "    </tr>\n",
       "    <tr>\n",
       "      <th>12452</th>\n",
       "      <td>Shape of You</td>\n",
       "      <td>3.362005e+09</td>\n",
       "    </tr>\n",
       "    <tr>\n",
       "      <th>19186</th>\n",
       "      <td>Someone You Loved</td>\n",
       "      <td>2.634013e+09</td>\n",
       "    </tr>\n",
       "    <tr>\n",
       "      <th>17937</th>\n",
       "      <td>rockstar (feat. 21 Savage)</td>\n",
       "      <td>2.594927e+09</td>\n",
       "    </tr>\n",
       "    <tr>\n",
       "      <th>17938</th>\n",
       "      <td>Sunflower - Spider-Man: Into the Spider-Verse</td>\n",
       "      <td>2.538330e+09</td>\n",
       "    </tr>\n",
       "    <tr>\n",
       "      <th>17445</th>\n",
       "      <td>Sunflower - Spider-Man: Into the Spider-Verse</td>\n",
       "      <td>2.538330e+09</td>\n",
       "    </tr>\n",
       "    <tr>\n",
       "      <th>13503</th>\n",
       "      <td>One Dance</td>\n",
       "      <td>2.522432e+09</td>\n",
       "    </tr>\n",
       "    <tr>\n",
       "      <th>16099</th>\n",
       "      <td>Closer</td>\n",
       "      <td>2.456205e+09</td>\n",
       "    </tr>\n",
       "    <tr>\n",
       "      <th>16028</th>\n",
       "      <td>Closer</td>\n",
       "      <td>2.456205e+09</td>\n",
       "    </tr>\n",
       "    <tr>\n",
       "      <th>14030</th>\n",
       "      <td>Believer</td>\n",
       "      <td>2.369272e+09</td>\n",
       "    </tr>\n",
       "  </tbody>\n",
       "</table>\n",
       "</div>"
      ],
      "text/plain": [
       "                                               Track        Stream\n",
       "15250                                Blinding Lights  3.386520e+09\n",
       "12452                                   Shape of You  3.362005e+09\n",
       "19186                              Someone You Loved  2.634013e+09\n",
       "17937                     rockstar (feat. 21 Savage)  2.594927e+09\n",
       "17938  Sunflower - Spider-Man: Into the Spider-Verse  2.538330e+09\n",
       "17445  Sunflower - Spider-Man: Into the Spider-Verse  2.538330e+09\n",
       "13503                                      One Dance  2.522432e+09\n",
       "16099                                         Closer  2.456205e+09\n",
       "16028                                         Closer  2.456205e+09\n",
       "14030                                       Believer  2.369272e+09"
      ]
     },
     "execution_count": 70,
     "metadata": {},
     "output_type": "execute_result"
    }
   ],
   "source": [
    "# Top 10 tracks with the highest streams on Spotify\n",
    "df.sort_values(by='Stream', ascending=False).head(10)[['Track', 'Stream']]"
   ]
  },
  {
   "cell_type": "code",
   "execution_count": 71,
   "id": "f746242f",
   "metadata": {},
   "outputs": [
    {
     "data": {
      "text/html": [
       "<div>\n",
       "<style scoped>\n",
       "    .dataframe tbody tr th:only-of-type {\n",
       "        vertical-align: middle;\n",
       "    }\n",
       "\n",
       "    .dataframe tbody tr th {\n",
       "        vertical-align: top;\n",
       "    }\n",
       "\n",
       "    .dataframe thead th {\n",
       "        text-align: right;\n",
       "    }\n",
       "</style>\n",
       "<table border=\"1\" class=\"dataframe\">\n",
       "  <thead>\n",
       "    <tr style=\"text-align: right;\">\n",
       "      <th></th>\n",
       "      <th>Track</th>\n",
       "      <th>Stream</th>\n",
       "    </tr>\n",
       "  </thead>\n",
       "  <tbody>\n",
       "    <tr>\n",
       "      <th>8701</th>\n",
       "      <td>Rainbows</td>\n",
       "      <td>6574.0</td>\n",
       "    </tr>\n",
       "    <tr>\n",
       "      <th>3774</th>\n",
       "      <td>We Play the Funk - Slynk Remix</td>\n",
       "      <td>7771.0</td>\n",
       "    </tr>\n",
       "    <tr>\n",
       "      <th>5161</th>\n",
       "      <td>Teil 9 - Sherlock Holmes und ein Brief von der...</td>\n",
       "      <td>8053.0</td>\n",
       "    </tr>\n",
       "    <tr>\n",
       "      <th>5160</th>\n",
       "      <td>Teil 10 - Sherlock Holmes und ein Brief von de...</td>\n",
       "      <td>8074.0</td>\n",
       "    </tr>\n",
       "    <tr>\n",
       "      <th>5159</th>\n",
       "      <td>Teil 5 - Sherlock Holmes und der blinde Bettle...</td>\n",
       "      <td>10306.0</td>\n",
       "    </tr>\n",
       "  </tbody>\n",
       "</table>\n",
       "</div>"
      ],
      "text/plain": [
       "                                                  Track   Stream\n",
       "8701                                           Rainbows   6574.0\n",
       "3774                     We Play the Funk - Slynk Remix   7771.0\n",
       "5161  Teil 9 - Sherlock Holmes und ein Brief von der...   8053.0\n",
       "5160  Teil 10 - Sherlock Holmes und ein Brief von de...   8074.0\n",
       "5159  Teil 5 - Sherlock Holmes und der blinde Bettle...  10306.0"
      ]
     },
     "execution_count": 71,
     "metadata": {},
     "output_type": "execute_result"
    }
   ],
   "source": [
    "# Top 5 tracks with the lowest streams on Spotify\n",
    "df.sort_values(by='Stream', ascending=True).head(5)[['Track', 'Stream']]"
   ]
  },
  {
   "cell_type": "code",
   "execution_count": 72,
   "id": "df898531",
   "metadata": {},
   "outputs": [
    {
     "data": {
      "text/plain": [
       "3"
      ]
     },
     "execution_count": 72,
     "metadata": {},
     "output_type": "execute_result"
    }
   ],
   "source": [
    "df['Album_type'].nunique()"
   ]
  },
  {
   "cell_type": "code",
   "execution_count": 73,
   "id": "c2aafdc9",
   "metadata": {},
   "outputs": [],
   "source": [
    "# Most common album types on Spotify and how many tracks belong to each album type\n",
    "common_album_types = df['Album_type'].value_counts()"
   ]
  },
  {
   "cell_type": "code",
   "execution_count": 74,
   "id": "02aeb1ec",
   "metadata": {},
   "outputs": [
    {
     "data": {
      "image/png": "[encoded data removed]",
      "text/plain": [
       "<Figure size 640x480 with 1 Axes>"
      ]
     },
     "metadata": {},
     "output_type": "display_data"
    }
   ],
   "source": [
    "plt.pie(common_album_types, labels=common_album_types.index, autopct='%1.1f%%')\n",
    "plt.legend(title = \"Album Types\", bbox_to_anchor=(1, 1))\n",
    "plt.title('Track Percentages in Each Album Type')\n",
    "plt.savefig('plots/pie', dpi=300, bbox_inches='tight')\n",
    "plt.show()"
   ]
  },
  {
   "cell_type": "code",
   "execution_count": 75,
   "id": "72f55271",
   "metadata": {},
   "outputs": [],
   "source": [
    "df_temp = df.groupby('Album_type')[['Views', 'Likes', 'Comments']].mean()"
   ]
  },
  {
   "cell_type": "code",
   "execution_count": 76,
   "id": "9e2e02fd",
   "metadata": {},
   "outputs": [
    {
     "data": {
      "text/html": [
       "<div>\n",
       "<style scoped>\n",
       "    .dataframe tbody tr th:only-of-type {\n",
       "        vertical-align: middle;\n",
       "    }\n",
       "\n",
       "    .dataframe tbody tr th {\n",
       "        vertical-align: top;\n",
       "    }\n",
       "\n",
       "    .dataframe thead th {\n",
       "        text-align: right;\n",
       "    }\n",
       "</style>\n",
       "<table border=\"1\" class=\"dataframe\">\n",
       "  <thead>\n",
       "    <tr style=\"text-align: right;\">\n",
       "      <th></th>\n",
       "      <th>Album_type</th>\n",
       "      <th>Views</th>\n",
       "      <th>Likes</th>\n",
       "      <th>Comments</th>\n",
       "    </tr>\n",
       "  </thead>\n",
       "  <tbody>\n",
       "    <tr>\n",
       "      <th>0</th>\n",
       "      <td>album</td>\n",
       "      <td>1.018768e+08</td>\n",
       "      <td>675165.920260</td>\n",
       "      <td>29243.777104</td>\n",
       "    </tr>\n",
       "    <tr>\n",
       "      <th>1</th>\n",
       "      <td>compilation</td>\n",
       "      <td>8.544522e+07</td>\n",
       "      <td>547111.882438</td>\n",
       "      <td>18177.200290</td>\n",
       "    </tr>\n",
       "    <tr>\n",
       "      <th>2</th>\n",
       "      <td>single</td>\n",
       "      <td>8.497061e+07</td>\n",
       "      <td>723916.638266</td>\n",
       "      <td>27343.859577</td>\n",
       "    </tr>\n",
       "  </tbody>\n",
       "</table>\n",
       "</div>"
      ],
      "text/plain": [
       "    Album_type         Views          Likes      Comments\n",
       "0        album  1.018768e+08  675165.920260  29243.777104\n",
       "1  compilation  8.544522e+07  547111.882438  18177.200290\n",
       "2       single  8.497061e+07  723916.638266  27343.859577"
      ]
     },
     "execution_count": 76,
     "metadata": {},
     "output_type": "execute_result"
    }
   ],
   "source": [
    "df_temp = df_temp.reset_index()\n",
    "df_temp"
   ]
  },
  {
   "cell_type": "code",
   "execution_count": 77,
   "id": "039f11ad",
   "metadata": {},
   "outputs": [
    {
     "data": {
      "text/html": [
       "<div>\n",
       "<style scoped>\n",
       "    .dataframe tbody tr th:only-of-type {\n",
       "        vertical-align: middle;\n",
       "    }\n",
       "\n",
       "    .dataframe tbody tr th {\n",
       "        vertical-align: top;\n",
       "    }\n",
       "\n",
       "    .dataframe thead th {\n",
       "        text-align: right;\n",
       "    }\n",
       "</style>\n",
       "<table border=\"1\" class=\"dataframe\">\n",
       "  <thead>\n",
       "    <tr style=\"text-align: right;\">\n",
       "      <th></th>\n",
       "      <th>Album_type</th>\n",
       "      <th>Attribute</th>\n",
       "      <th>Total</th>\n",
       "    </tr>\n",
       "  </thead>\n",
       "  <tbody>\n",
       "    <tr>\n",
       "      <th>0</th>\n",
       "      <td>album</td>\n",
       "      <td>Views</td>\n",
       "      <td>1.018768e+08</td>\n",
       "    </tr>\n",
       "    <tr>\n",
       "      <th>1</th>\n",
       "      <td>compilation</td>\n",
       "      <td>Views</td>\n",
       "      <td>8.544522e+07</td>\n",
       "    </tr>\n",
       "    <tr>\n",
       "      <th>2</th>\n",
       "      <td>single</td>\n",
       "      <td>Views</td>\n",
       "      <td>8.497061e+07</td>\n",
       "    </tr>\n",
       "    <tr>\n",
       "      <th>3</th>\n",
       "      <td>album</td>\n",
       "      <td>Likes</td>\n",
       "      <td>6.751659e+05</td>\n",
       "    </tr>\n",
       "    <tr>\n",
       "      <th>4</th>\n",
       "      <td>compilation</td>\n",
       "      <td>Likes</td>\n",
       "      <td>5.471119e+05</td>\n",
       "    </tr>\n",
       "    <tr>\n",
       "      <th>5</th>\n",
       "      <td>single</td>\n",
       "      <td>Likes</td>\n",
       "      <td>7.239166e+05</td>\n",
       "    </tr>\n",
       "    <tr>\n",
       "      <th>6</th>\n",
       "      <td>album</td>\n",
       "      <td>Comments</td>\n",
       "      <td>2.924378e+04</td>\n",
       "    </tr>\n",
       "    <tr>\n",
       "      <th>7</th>\n",
       "      <td>compilation</td>\n",
       "      <td>Comments</td>\n",
       "      <td>1.817720e+04</td>\n",
       "    </tr>\n",
       "    <tr>\n",
       "      <th>8</th>\n",
       "      <td>single</td>\n",
       "      <td>Comments</td>\n",
       "      <td>2.734386e+04</td>\n",
       "    </tr>\n",
       "  </tbody>\n",
       "</table>\n",
       "</div>"
      ],
      "text/plain": [
       "    Album_type Attribute         Total\n",
       "0        album     Views  1.018768e+08\n",
       "1  compilation     Views  8.544522e+07\n",
       "2       single     Views  8.497061e+07\n",
       "3        album     Likes  6.751659e+05\n",
       "4  compilation     Likes  5.471119e+05\n",
       "5       single     Likes  7.239166e+05\n",
       "6        album  Comments  2.924378e+04\n",
       "7  compilation  Comments  1.817720e+04\n",
       "8       single  Comments  2.734386e+04"
      ]
     },
     "execution_count": 77,
     "metadata": {},
     "output_type": "execute_result"
    }
   ],
   "source": [
    "# unpivoting a dataframe\n",
    "df_melted = pd.melt(df_temp, id_vars='Album_type', var_name='Attribute', value_name='Total')\n",
    "df_melted"
   ]
  },
  {
   "cell_type": "code",
   "execution_count": 78,
   "id": "64531a03",
   "metadata": {},
   "outputs": [
    {
     "data": {
      "image/png": "[encoded data removed]",
      "text/plain": [
       "<Figure size 900x400 with 1 Axes>"
      ]
     },
     "metadata": {},
     "output_type": "display_data"
    }
   ],
   "source": [
    "plt.figure(figsize=(9,4))\n",
    "sns.barplot(x='Album_type', y='Total', hue='Attribute', data=df_melted)\n",
    "plt.title('Comparison of Average Likes, Views, and Comments Across Album Types')\n",
    "plt.xlabel('Album Type')\n",
    "plt.ylabel('Summary')\n",
    "plt.savefig('plots/comparison_album_types', dpi=300, bbox_inches='tight')\n",
    "plt.show()"
   ]
  },
  {
   "cell_type": "code",
   "execution_count": 79,
   "id": "ceb3e048",
   "metadata": {},
   "outputs": [
    {
     "data": {
      "text/html": [
       "<div>\n",
       "<style scoped>\n",
       "    .dataframe tbody tr th:only-of-type {\n",
       "        vertical-align: middle;\n",
       "    }\n",
       "\n",
       "    .dataframe tbody tr th {\n",
       "        vertical-align: top;\n",
       "    }\n",
       "\n",
       "    .dataframe thead th {\n",
       "        text-align: right;\n",
       "    }\n",
       "</style>\n",
       "<table border=\"1\" class=\"dataframe\">\n",
       "  <thead>\n",
       "    <tr style=\"text-align: right;\">\n",
       "      <th></th>\n",
       "      <th>Views</th>\n",
       "    </tr>\n",
       "    <tr>\n",
       "      <th>Channel</th>\n",
       "      <th></th>\n",
       "    </tr>\n",
       "  </thead>\n",
       "  <tbody>\n",
       "    <tr>\n",
       "      <th>T-Series</th>\n",
       "      <td>47798638201</td>\n",
       "    </tr>\n",
       "    <tr>\n",
       "      <th>LuisFonsiVEVO</th>\n",
       "      <td>21702521043</td>\n",
       "    </tr>\n",
       "    <tr>\n",
       "      <th>CalvinHarrisVEVO</th>\n",
       "      <td>18281142527</td>\n",
       "    </tr>\n",
       "    <tr>\n",
       "      <th>Macklemore</th>\n",
       "      <td>17003410965</td>\n",
       "    </tr>\n",
       "    <tr>\n",
       "      <th>Ed Sheeran</th>\n",
       "      <td>16918224412</td>\n",
       "    </tr>\n",
       "  </tbody>\n",
       "</table>\n",
       "</div>"
      ],
      "text/plain": [
       "                        Views\n",
       "Channel                      \n",
       "T-Series          47798638201\n",
       "LuisFonsiVEVO     21702521043\n",
       "CalvinHarrisVEVO  18281142527\n",
       "Macklemore        17003410965\n",
       "Ed Sheeran        16918224412"
      ]
     },
     "execution_count": 79,
     "metadata": {},
     "output_type": "execute_result"
    }
   ],
   "source": [
    "# Top 5 youtube channels based on views\n",
    "df_views = df.groupby('Channel').agg({'Views': 'sum'}).sort_values(by='Views', ascending=False).head(5)\n",
    "df_views"
   ]
  },
  {
   "cell_type": "code",
   "execution_count": 80,
   "id": "3da9d8c5",
   "metadata": {},
   "outputs": [],
   "source": [
    "df_views = df_views.reset_index()"
   ]
  },
  {
   "cell_type": "code",
   "execution_count": 81,
   "id": "aae7bdf0",
   "metadata": {},
   "outputs": [
    {
     "data": {
      "image/png": "[encoded data removed]",
      "text/plain": [
       "<Figure size 640x480 with 1 Axes>"
      ]
     },
     "metadata": {},
     "output_type": "display_data"
    }
   ],
   "source": [
    "sns.barplot(x='Views', y='Channel', hue='Channel', legend=False, data=df_views, palette='dark:red')\n",
    "plt.title('Top 5 Channels By Views')\n",
    "plt.savefig('plots/topfivechannels', dpi=300, bbox_inches='tight')\n",
    "plt.show()"
   ]
  },
  {
   "cell_type": "code",
   "execution_count": 82,
   "id": "59d01fb2",
   "metadata": {},
   "outputs": [
    {
     "data": {
      "text/plain": [
       "1147    Despacito\n",
       "Name: Track, dtype: object"
      ]
     },
     "execution_count": 82,
     "metadata": {},
     "output_type": "execute_result"
    }
   ],
   "source": [
    "# Track with the maximum views\n",
    "df.sort_values(by='Views', ascending=False)['Track'].head(1)"
   ]
  },
  {
   "cell_type": "code",
   "execution_count": 83,
   "id": "4b56d390",
   "metadata": {},
   "outputs": [
    {
     "data": {
      "text/plain": [
       "0    0.896958\n",
       "1    1.498547\n",
       "2    3.344874\n",
       "3    0.844645\n",
       "4    1.002022\n",
       "Name: LikeView_Ratio, dtype: float64"
      ]
     },
     "execution_count": 83,
     "metadata": {},
     "output_type": "execute_result"
    }
   ],
   "source": [
    "df['LikeView_Ratio'] = (df['Likes'] / df['Views']) * 100\n",
    "df['LikeView_Ratio'].head()"
   ]
  },
  {
   "cell_type": "code",
   "execution_count": 84,
   "id": "4bd345eb",
   "metadata": {},
   "outputs": [
    {
     "data": {
      "text/html": [
       "<div>\n",
       "<style scoped>\n",
       "    .dataframe tbody tr th:only-of-type {\n",
       "        vertical-align: middle;\n",
       "    }\n",
       "\n",
       "    .dataframe tbody tr th {\n",
       "        vertical-align: top;\n",
       "    }\n",
       "\n",
       "    .dataframe thead th {\n",
       "        text-align: right;\n",
       "    }\n",
       "</style>\n",
       "<table border=\"1\" class=\"dataframe\">\n",
       "  <thead>\n",
       "    <tr style=\"text-align: right;\">\n",
       "      <th></th>\n",
       "      <th>Track</th>\n",
       "      <th>LikeView_Ratio</th>\n",
       "    </tr>\n",
       "  </thead>\n",
       "  <tbody>\n",
       "    <tr>\n",
       "      <th>19968</th>\n",
       "      <td>Intro</td>\n",
       "      <td>24.920421</td>\n",
       "    </tr>\n",
       "    <tr>\n",
       "      <th>19969</th>\n",
       "      <td>Safety Zone</td>\n",
       "      <td>23.246000</td>\n",
       "    </tr>\n",
       "    <tr>\n",
       "      <th>19967</th>\n",
       "      <td>Future</td>\n",
       "      <td>21.186899</td>\n",
       "    </tr>\n",
       "    <tr>\n",
       "      <th>19971</th>\n",
       "      <td>Pandora's Box</td>\n",
       "      <td>20.051832</td>\n",
       "    </tr>\n",
       "    <tr>\n",
       "      <th>16297</th>\n",
       "      <td>My Universe - Galantis Remix</td>\n",
       "      <td>17.963316</td>\n",
       "    </tr>\n",
       "  </tbody>\n",
       "</table>\n",
       "</div>"
      ],
      "text/plain": [
       "                              Track  LikeView_Ratio\n",
       "19968                         Intro       24.920421\n",
       "19969                   Safety Zone       23.246000\n",
       "19967                        Future       21.186899\n",
       "19971                 Pandora's Box       20.051832\n",
       "16297  My Universe - Galantis Remix       17.963316"
      ]
     },
     "execution_count": 84,
     "metadata": {},
     "output_type": "execute_result"
    }
   ],
   "source": [
    "# Top 5 tracks with the maximum like to view ratio (how many users liked the video after viewing)\n",
    "df.sort_values(by='LikeView_Ratio', ascending=False)[['Track', 'LikeView_Ratio']].head(5)"
   ]
  },
  {
   "cell_type": "code",
   "execution_count": 85,
   "id": "d6fef927",
   "metadata": {},
   "outputs": [
    {
     "data": {
      "text/html": [
       "<div>\n",
       "<style scoped>\n",
       "    .dataframe tbody tr th:only-of-type {\n",
       "        vertical-align: middle;\n",
       "    }\n",
       "\n",
       "    .dataframe tbody tr th {\n",
       "        vertical-align: top;\n",
       "    }\n",
       "\n",
       "    .dataframe thead th {\n",
       "        text-align: right;\n",
       "    }\n",
       "</style>\n",
       "<table border=\"1\" class=\"dataframe\">\n",
       "  <thead>\n",
       "    <tr style=\"text-align: right;\">\n",
       "      <th></th>\n",
       "      <th>Danceability</th>\n",
       "    </tr>\n",
       "    <tr>\n",
       "      <th>Album</th>\n",
       "      <th></th>\n",
       "    </tr>\n",
       "  </thead>\n",
       "  <tbody>\n",
       "    <tr>\n",
       "      <th>Greatest Hits</th>\n",
       "      <td>17.356</td>\n",
       "    </tr>\n",
       "    <tr>\n",
       "      <th>Hamilton (Original Broadway Cast Recording)</th>\n",
       "      <td>16.001</td>\n",
       "    </tr>\n",
       "    <tr>\n",
       "      <th>HEROES &amp; VILLAINS</th>\n",
       "      <td>14.300</td>\n",
       "    </tr>\n",
       "    <tr>\n",
       "      <th>RODZINNY BIZNES</th>\n",
       "      <td>13.491</td>\n",
       "    </tr>\n",
       "    <tr>\n",
       "      <th>An Evening With Silk Sonic</th>\n",
       "      <td>13.349</td>\n",
       "    </tr>\n",
       "  </tbody>\n",
       "</table>\n",
       "</div>"
      ],
      "text/plain": [
       "                                             Danceability\n",
       "Album                                                    \n",
       "Greatest Hits                                      17.356\n",
       "Hamilton (Original Broadway Cast Recording)        16.001\n",
       "HEROES & VILLAINS                                  14.300\n",
       "RODZINNY BIZNES                                    13.491\n",
       "An Evening With Silk Sonic                         13.349"
      ]
     },
     "execution_count": 85,
     "metadata": {},
     "output_type": "execute_result"
    }
   ],
   "source": [
    "df.groupby('Album').agg({'Danceability': 'sum'}).sort_values(by='Danceability', ascending=False).head(5)"
   ]
  },
  {
   "cell_type": "code",
   "execution_count": 86,
   "id": "a75e9b8c",
   "metadata": {},
   "outputs": [],
   "source": [
    "df_corr_vars = df[['Views', 'Likes', 'Comments', 'Stream']]"
   ]
  },
  {
   "cell_type": "code",
   "execution_count": 87,
   "id": "ffa026cf",
   "metadata": {},
   "outputs": [
    {
     "data": {
      "text/html": [
       "<div>\n",
       "<style scoped>\n",
       "    .dataframe tbody tr th:only-of-type {\n",
       "        vertical-align: middle;\n",
       "    }\n",
       "\n",
       "    .dataframe tbody tr th {\n",
       "        vertical-align: top;\n",
       "    }\n",
       "\n",
       "    .dataframe thead th {\n",
       "        text-align: right;\n",
       "    }\n",
       "</style>\n",
       "<table border=\"1\" class=\"dataframe\">\n",
       "  <thead>\n",
       "    <tr style=\"text-align: right;\">\n",
       "      <th></th>\n",
       "      <th>Views</th>\n",
       "      <th>Likes</th>\n",
       "      <th>Comments</th>\n",
       "      <th>Stream</th>\n",
       "    </tr>\n",
       "  </thead>\n",
       "  <tbody>\n",
       "    <tr>\n",
       "      <th>Views</th>\n",
       "      <td>1.000000</td>\n",
       "      <td>0.891852</td>\n",
       "      <td>0.431122</td>\n",
       "      <td>0.604195</td>\n",
       "    </tr>\n",
       "    <tr>\n",
       "      <th>Likes</th>\n",
       "      <td>0.891852</td>\n",
       "      <td>1.000000</td>\n",
       "      <td>0.631488</td>\n",
       "      <td>0.656785</td>\n",
       "    </tr>\n",
       "    <tr>\n",
       "      <th>Comments</th>\n",
       "      <td>0.431122</td>\n",
       "      <td>0.631488</td>\n",
       "      <td>1.000000</td>\n",
       "      <td>0.268377</td>\n",
       "    </tr>\n",
       "    <tr>\n",
       "      <th>Stream</th>\n",
       "      <td>0.604195</td>\n",
       "      <td>0.656785</td>\n",
       "      <td>0.268377</td>\n",
       "      <td>1.000000</td>\n",
       "    </tr>\n",
       "  </tbody>\n",
       "</table>\n",
       "</div>"
      ],
      "text/plain": [
       "             Views     Likes  Comments    Stream\n",
       "Views     1.000000  0.891852  0.431122  0.604195\n",
       "Likes     0.891852  1.000000  0.631488  0.656785\n",
       "Comments  0.431122  0.631488  1.000000  0.268377\n",
       "Stream    0.604195  0.656785  0.268377  1.000000"
      ]
     },
     "execution_count": 87,
     "metadata": {},
     "output_type": "execute_result"
    }
   ],
   "source": [
    "df_corr_vars.corr()"
   ]
  },
  {
   "cell_type": "code",
   "execution_count": 88,
   "id": "15e9e8d4",
   "metadata": {},
   "outputs": [
    {
     "data": {
      "image/png": "[encoded data removed]",
      "text/plain": [
       "<Figure size 640x480 with 2 Axes>"
      ]
     },
     "metadata": {},
     "output_type": "display_data"
    }
   ],
   "source": [
    "# Views and Likes are highly correlated\n",
    "# Stream and comments are not highly correlated\n",
    "# Likes and stream are somewhat correlated\n",
    "sns.heatmap(df_corr_vars.corr())\n",
    "plt.savefig('plots/heatmap', dpi=300, bbox_inches='tight')\n",
    "plt.show()"
   ]
  },
  {
   "cell_type": "code",
   "execution_count": 89,
   "id": "8ebae85f",
   "metadata": {},
   "outputs": [],
   "source": [
    "df.to_csv('data/spyt_cleaned.csv', index=False)"
   ]
  },
  {
   "cell_type": "code",
   "execution_count": 90,
   "id": "0ddfcc3c",
   "metadata": {},
   "outputs": [
    {
     "name": "stdout",
     "output_type": "stream",
     "text": [
      "<class 'pandas.core.frame.DataFrame'>\n",
      "Index: 19170 entries, 0 to 20717\n",
      "Data columns (total 25 columns):\n",
      " #   Column            Non-Null Count  Dtype  \n",
      "---  ------            --------------  -----  \n",
      " 0   Artist            19170 non-null  object \n",
      " 1   Track             19170 non-null  object \n",
      " 2   Album             19170 non-null  object \n",
      " 3   Album_type        19170 non-null  object \n",
      " 4   Danceability      19170 non-null  float64\n",
      " 5   Energy            19170 non-null  float64\n",
      " 6   Key               19170 non-null  float64\n",
      " 7   Loudness          19170 non-null  float64\n",
      " 8   Speechiness       19170 non-null  float64\n",
      " 9   Acousticness      19170 non-null  float64\n",
      " 10  Instrumentalness  19170 non-null  float64\n",
      " 11  Liveness          19170 non-null  float64\n",
      " 12  Valence           19170 non-null  float64\n",
      " 13  Tempo             19170 non-null  float64\n",
      " 14  Duration_ms       19170 non-null  float64\n",
      " 15  Title             19170 non-null  object \n",
      " 16  Channel           19170 non-null  object \n",
      " 17  Views             19170 non-null  int64  \n",
      " 18  Likes             19170 non-null  int64  \n",
      " 19  Comments          19170 non-null  int64  \n",
      " 20  Description       19170 non-null  object \n",
      " 21  Licensed          19170 non-null  object \n",
      " 22  official_video    19170 non-null  object \n",
      " 23  Stream            19170 non-null  float64\n",
      " 24  LikeView_Ratio    19170 non-null  float64\n",
      "dtypes: float64(13), int64(3), object(9)\n",
      "memory usage: 3.8+ MB\n"
     ]
    }
   ],
   "source": [
    "df.info()"
   ]
  },
  {
   "cell_type": "code",
   "execution_count": 91,
   "id": "58009397",
   "metadata": {},
   "outputs": [],
   "source": [
    "df.to_csv('data/spyt_cleaned_index.csv', index=True)"
   ]
  }
 ],
 "metadata": {
  "kernelspec": {
   "display_name": "spot",
   "language": "python",
   "name": "python3"
  },
  "language_info": {
   "codemirror_mode": {
    "name": "ipython",
    "version": 3
   },
   "file_extension": ".py",
   "mimetype": "text/x-python",
   "name": "python",
   "nbconvert_exporter": "python",
   "pygments_lexer": "ipython3",
   "version": "3.12.3"
  }
 },
 "nbformat": 4,
 "nbformat_minor": 5
}
